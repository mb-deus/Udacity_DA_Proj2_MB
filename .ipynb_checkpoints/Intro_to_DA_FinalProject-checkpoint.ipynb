{
 "cells": [
  {
   "cell_type": "code",
   "execution_count": null,
   "metadata": {},
   "outputs": [],
   "source": []
  },
  {
   "cell_type": "code",
   "execution_count": 1,
   "metadata": {},
   "outputs": [],
   "source": [
    "import pandas as pd\n",
    "import numpy as np\n",
    "import matplotlib.pyplot as plt\n",
    "import seaborn as sns\n",
    "%matplotlib inline"
   ]
  },
  {
   "cell_type": "markdown",
   "metadata": {},
   "source": [
    "### The data sets to be imported and analysed:\n",
    "\n",
    "- Civil liberties.\n",
    "- GDP (purchasing power parity)\n",
    "- Population median age.\n",
    "- Children per woman. \n",
    "\n"
   ]
  },
  {
   "cell_type": "code",
   "execution_count": 2,
   "metadata": {},
   "outputs": [],
   "source": [
    "df_lib = pd.read_csv('data_sets/civlibx_eiu.csv', index_col='country')\n",
    "df_gdp = pd.read_csv('data_sets/total_gdp_ppp_inflation_adjusted.csv', index_col='country')\n",
    "df_age = pd.read_csv('data_sets/median_age_years.csv', index_col='country')\n",
    "df_kid = pd.read_csv('data_sets/children_per_woman_total_fertility.csv', index_col='country')\n"
   ]
  },
  {
   "cell_type": "markdown",
   "metadata": {},
   "source": [
    "### Questions to ask:\n",
    "\n",
    "\n",
    "*GDP*: Which countries have shown the most significant growth in GDP over the last 100 years\n",
    "\n",
    "*Liberty*: Has liberty increased for the planet since records began? [ 1) Use statistics to calc the global mean, 2) Bucket the scores and poresent visually]\n",
    "\n",
    "*Liberty and GDP*: Is there any correlation between a movement in a country's liberty score and its GDP?\n",
    "\n",
    "*Age and Children*: Is there any relationship between the age of a countrys population and the number of children each woman has? (Older population equals more children/woman, or vice versa)\n",
    "\n",
    "."
   ]
  },
  {
   "cell_type": "code",
   "execution_count": null,
   "metadata": {},
   "outputs": [],
   "source": [
    "df_lib.head()"
   ]
  },
  {
   "cell_type": "code",
   "execution_count": null,
   "metadata": {},
   "outputs": [],
   "source": [
    "df_lib['2006'].describe(), df_lib['2018'].describe()"
   ]
  },
  {
   "cell_type": "code",
   "execution_count": null,
   "metadata": {},
   "outputs": [],
   "source": [
    "df_lib_06 = df_lib['2006'].describe()\n",
    "df_lib_18 = df_lib['2018'].describe()\n",
    "items = {'metrics_06': df_lib_06, 'metrics_18': df_lib_18}\n",
    "stats_lib = pd.DataFrame(items)\n",
    "stats_lib['change'] = stats_lib['metrics_18'] - stats_lib['metrics_06']\n",
    "stats_lib"
   ]
  },
  {
   "cell_type": "code",
   "execution_count": null,
   "metadata": {},
   "outputs": [],
   "source": [
    "df_lib[df_lib['2006'] == 1]['2006'].count()"
   ]
  },
  {
   "cell_type": "code",
   "execution_count": null,
   "metadata": {},
   "outputs": [],
   "source": [
    "df_lib[df_lib['2018'] == 1]"
   ]
  },
  {
   "cell_type": "code",
   "execution_count": null,
   "metadata": {},
   "outputs": [],
   "source": [
    "# Create a dataframe with just 2018 data\n",
    "df_lib_18 = df_lib['2018']\n",
    "print(df_lib_18)\n",
    "\n",
    "# Add a new column which is the bucket of which the data falls into (Eg 0-2, 2-4 etc)\n",
    "    # how many buckets do you want\n",
    "buckets = 4\n",
    "categories = []\n",
    "for i in range(buckets):\n",
    "    element = str((i)/buckets)+\" - \"+str((i+1)/buckets)\n",
    "    categories.append(element)\n",
    "\n",
    "#df_lib['2018_b'] = \n",
    "\n",
    "# Groupby the new buckets and include the count of countries in that bucket\n",
    "\n",
    "# Graph it and then do the same for the comparative period x years before."
   ]
  },
  {
   "cell_type": "code",
   "execution_count": null,
   "metadata": {},
   "outputs": [],
   "source": [
    "type(df_lib_18[5])"
   ]
  },
  {
   "cell_type": "code",
   "execution_count": null,
   "metadata": {},
   "outputs": [],
   "source": [
    "#sort/order the df\n",
    "df_lib = pd.read_csv('data_sets/civlibx_eiu.csv', index_col='country')\n",
    "df_lib.sort_values(['2018'], inplace=True)\n",
    "\n",
    "\n",
    "df_lib_1 = df_lib[df_lib['2018'] <= 0.25]\n",
    "df_lib_1.head(5)\n",
    "#filter the df on all amounts below x, then add in column, rinse and repeat and then join the df's back together."
   ]
  },
  {
   "cell_type": "code",
   "execution_count": null,
   "metadata": {},
   "outputs": [],
   "source": [
    "print(0/5)dd"
   ]
  },
  {
   "cell_type": "code",
   "execution_count": null,
   "metadata": {},
   "outputs": [],
   "source": [
    "#sort/order the df\n",
    "df_lib = pd.read_csv('data_sets/civlibx_eiu.csv', index_col='country')\n",
    "df_lib.sort_values(['2018'], inplace=True)\n",
    "\n",
    "\n",
    "df_lib_2 = df_lib[(df_lib['2018'] <= 0.5) & (df_lib['2018'] > 0.25)]\n",
    "df_lib_2.tail(25)\n",
    "#filter the df on all amounts below x, then add in column, rinse and repeat and then join the df's back together."
   ]
  },
  {
   "cell_type": "code",
   "execution_count": null,
   "metadata": {},
   "outputs": [],
   "source": [
    "\"\"\"def bucket(df, col, number):\n",
    "    #sort the df\n",
    "    df.sort_values([col], inplace=True)\n",
    "    \n",
    "    #Set your variables\n",
    "    buckets = number\n",
    "    dataframes = []\n",
    "    new_col = col + '_b'\n",
    "    \n",
    "    #Enter a loop to create the buckets/df's\n",
    "    for i in range(buckets):    \n",
    "        #filter the df\n",
    "        df = df[(df[col] > (i)/buckets) & (df[col] <= (i+1)/buckets)]\n",
    "        #df = df.query('`str(col)` > (i)/buckets & `str(col)` <= (i+1)/buckets')\n",
    "        df = \"df_\" + \"_\" +str(i+1) \n",
    "        df[new_col] = str((i)/buckets)+\" - \"+str((i+1)/buckets)\n",
    "        dataframes.append(df)\n",
    "    \n",
    "    #return new merged df\n",
    "    return dataframes\"\"\""
   ]
  },
  {
   "cell_type": "code",
   "execution_count": null,
   "metadata": {},
   "outputs": [],
   "source": [
    "buckets = 5\n",
    "bin_edges = [-0.00001]\n",
    "bin_names = []\n",
    "for i in range(buckets):\n",
    "    bin_edges.append((i+1)/buckets)\n",
    "    bin_names.append(str((i)/buckets) + \" - \" + str((i+1)/buckets))\n",
    "df_lib['06bucket']= pd.cut(df_lib['2006'], bin_edges, labels=bin_names)\n",
    "df_lib['18bucket']= pd.cut(df_lib['2018'], bin_edges, labels=bin_names)\n",
    "bin_names"
   ]
  },
  {
   "cell_type": "code",
   "execution_count": null,
   "metadata": {
    "scrolled": true
   },
   "outputs": [],
   "source": [
    "plt.xlabel('liberty score bucket')\n",
    "plt.ylabel('number of countries')\n",
    "plt.axis=([-55,1.2,0,60])\n",
    "plt.legend()\n",
    "\n",
    "plt.style.use('ggplot')\n",
    "bar_1 = df_lib['06bucket'].value_counts()[bin_names]\n",
    "bar_1.plot(kind='bar', figsize=(8,8), color='b', alpha=0.8, width=0.4, align='edge')\n",
    "\n",
    "bar_2 = df_lib['18bucket'].value_counts()[bin_names]\n",
    "bar_2.plot(kind='bar', figsize=(8,8), color='r', alpha=0.8, width=0.4)\n",
    "\n",
    "\n",
    "plt.show();"
   ]
  },
  {
   "cell_type": "code",
   "execution_count": null,
   "metadata": {},
   "outputs": [],
   "source": []
  },
  {
   "cell_type": "code",
   "execution_count": null,
   "metadata": {},
   "outputs": [],
   "source": []
  },
  {
   "cell_type": "code",
   "execution_count": null,
   "metadata": {},
   "outputs": [],
   "source": []
  },
  {
   "cell_type": "code",
   "execution_count": null,
   "metadata": {},
   "outputs": [],
   "source": [
    "import pandas as pd\n",
    "import numpy as np\n",
    "import matplotlib.pyplot as plt\n",
    "import seaborn as sns\n",
    "%matplotlib inline"
   ]
  },
  {
   "cell_type": "code",
   "execution_count": null,
   "metadata": {},
   "outputs": [],
   "source": [
    "df_lib = pd.read_csv('data_sets/civlibx_eiu.csv', index_col='country')"
   ]
  },
  {
   "cell_type": "code",
   "execution_count": null,
   "metadata": {},
   "outputs": [],
   "source": [
    "buckets = 5\n",
    "bin_edges = [-0.00001]\n",
    "bin_names = []\n",
    "for i in range(buckets):\n",
    "    bin_edges.append((i+1)/buckets)\n",
    "    bin_names.append(str((i)/buckets) + \" - \" + str((i+1)/buckets))\n",
    "df_lib['06bucket']= pd.cut(df_lib['2006'], bin_edges, labels=bin_names)\n",
    "df_lib['18bucket']= pd.cut(df_lib['2018'], bin_edges, labels=bin_names)\n",
    "bin_names"
   ]
  },
  {
   "cell_type": "code",
   "execution_count": null,
   "metadata": {},
   "outputs": [],
   "source": [
    "bar_1 = df_lib['06bucket'].value_counts()[bin_names]\n",
    "bar_2 = df_lib['18bucket'].value_counts()[bin_names]"
   ]
  },
  {
   "cell_type": "code",
   "execution_count": null,
   "metadata": {},
   "outputs": [],
   "source": [
    "plt.figure(figsize=(8,8))\n",
    "x = np.arange(buckets)\n",
    "bar_width = 0.4\n",
    "plt.bar(x, bar_1, width=bar_width, label='2006', color='blue' )\n",
    "plt.bar(x+bar_width*0.7, bar_2, width=bar_width, label='2018', color='teal', alpha=0.8 )\n",
    "plt.xlabel('Liberty score bucket');\n",
    "plt.xticks(np.arange(buckets),bin_names)\n",
    "plt.ylabel('Number of countries');\n",
    "#plt.grid(True)\n",
    "plt.legend(fontsize=20);"
   ]
  },
  {
   "cell_type": "code",
   "execution_count": null,
   "metadata": {},
   "outputs": [],
   "source": [
    "plt.style.use('ggplot')\n",
    "#plt.legend()\n",
    "#plt.hist(df_lib['06bucket'],5, alpha=0.5, width=0.6, histtype = 'bar')\n",
    "plt.hist((df_lib['18bucket'], df_lib['06bucket']),5, alpha=0.75, histtype = 'bar')\n",
    "plt.xlabel('liberty score bucket')\n",
    "plt.ylabel('number of countries')\n",
    "plt.axis=([-55,1.2,0,60])\n",
    "plt.legend()\n"
   ]
  },
  {
   "cell_type": "code",
   "execution_count": null,
   "metadata": {},
   "outputs": [],
   "source": [
    "#check that there are no NAN's in the resulting dataset\n",
    "df_lib.info()"
   ]
  },
  {
   "cell_type": "code",
   "execution_count": null,
   "metadata": {},
   "outputs": [],
   "source": [
    "df_lib.isnull().sum()"
   ]
  },
  {
   "cell_type": "code",
   "execution_count": null,
   "metadata": {},
   "outputs": [],
   "source": [
    "df_lib[df_lib['18bucket'].isnull()]"
   ]
  },
  {
   "cell_type": "code",
   "execution_count": null,
   "metadata": {},
   "outputs": [],
   "source": []
  },
  {
   "cell_type": "code",
   "execution_count": null,
   "metadata": {},
   "outputs": [],
   "source": []
  },
  {
   "cell_type": "code",
   "execution_count": null,
   "metadata": {},
   "outputs": [],
   "source": []
  },
  {
   "cell_type": "code",
   "execution_count": null,
   "metadata": {},
   "outputs": [],
   "source": [
    "df_lib_T=df_lib.T"
   ]
  },
  {
   "cell_type": "code",
   "execution_count": null,
   "metadata": {},
   "outputs": [],
   "source": [
    "df_lib_T.columns[0:100]"
   ]
  },
  {
   "cell_type": "code",
   "execution_count": null,
   "metadata": {},
   "outputs": [],
   "source": [
    "df_lib_T.columns[100:170]"
   ]
  },
  {
   "cell_type": "code",
   "execution_count": null,
   "metadata": {},
   "outputs": [],
   "source": [
    "df_lib_T.info()"
   ]
  },
  {
   "cell_type": "code",
   "execution_count": null,
   "metadata": {},
   "outputs": [],
   "source": [
    "countries = ['Australia', 'United Kingdom', 'UK', 'US', 'United States', 'China', 'Russia', 'France', 'Germany', 'Japan']\n",
    "\n",
    "df_lib_T2 = df_lib_T.drop(columns=[col for col in df_lib_T if col not in countries])\n",
    "df_lib_T2.head(3)"
   ]
  },
  {
   "cell_type": "code",
   "execution_count": null,
   "metadata": {},
   "outputs": [],
   "source": [
    "df_lib_T2.plot(kind='line', figsize=(8,8))"
   ]
  },
  {
   "cell_type": "code",
   "execution_count": null,
   "metadata": {},
   "outputs": [],
   "source": [
    "df_lib_T.loc['2018'].plot(kind='bar', figsize=(8,8))\n"
   ]
  },
  {
   "cell_type": "code",
   "execution_count": null,
   "metadata": {},
   "outputs": [],
   "source": [
    "df_gdp.head(2)"
   ]
  },
  {
   "cell_type": "code",
   "execution_count": null,
   "metadata": {},
   "outputs": [],
   "source": [
    "df_gdp_t=df_gdp.T"
   ]
  },
  {
   "cell_type": "code",
   "execution_count": null,
   "metadata": {},
   "outputs": [],
   "source": [
    "df_gdp_t.head()"
   ]
  },
  {
   "cell_type": "code",
   "execution_count": null,
   "metadata": {},
   "outputs": [],
   "source": [
    "df_gdp.loc['1801':'1809']"
   ]
  },
  {
   "cell_type": "code",
   "execution_count": null,
   "metadata": {},
   "outputs": [],
   "source": [
    "df_gdp2.head()"
   ]
  },
  {
   "cell_type": "code",
   "execution_count": null,
   "metadata": {},
   "outputs": [],
   "source": [
    "fig=6\n",
    "df_gdp2 = df_gdp.drop(columns=[col for col in df_gdp if col not in countries])\n",
    "df_gdp2.plot(kind='line', figsize=(fig,fig)), df_gdp2.loc['1960':'2020'].plot(kind='line', figsize=(fig,fig))\n",
    "plt.xlabel('year')\n",
    "plt.ylabel('GDP')\n",
    "plt.show()"
   ]
  },
  {
   "cell_type": "code",
   "execution_count": null,
   "metadata": {},
   "outputs": [],
   "source": [
    "\"\"\"\n",
    "locs, labels = plt.xticks()\n",
    "locs = np.arange(10)\n",
    "labels = df_gdp2.index[0]\n",
    "xticks(locs, labels)\"\"\"\n",
    "\n",
    "plt.xticks(np.arange(10))\n",
    "plt.figure(figsize=(7, 4))\n",
    "\n",
    "ax1 = plt.subplot(121)\n",
    "ax1.plot(df_gdp2.index, df_gdp2)\n",
    "ax1.margins(0, 0) \n",
    "\n",
    "ax2 = plt.subplot(122)\n",
    "ax2.plot(df_gdp2.index, df_gdp2)\n",
    "ax2.margins(0, 0) \n",
    "\n",
    "plt.style.use('ggplot')\n",
    "\n",
    "plt.show()\n"
   ]
  },
  {
   "cell_type": "code",
   "execution_count": null,
   "metadata": {},
   "outputs": [],
   "source": [
    "df_gdp2.loc['1900']/1000000"
   ]
  },
  {
   "cell_type": "code",
   "execution_count": null,
   "metadata": {},
   "outputs": [],
   "source": [
    "# Which countries have shown the most growth over the last 100 years?\n",
    "# From 1913 to 2013\n",
    "\n",
    "#Take the original data set\n",
    "\n",
    "df_gdp['CAGR'] = ((df_gdp['2013']/df_gdp['1913'])**(1/100)-1) * 100\n",
    "df_gdp['Abs_gth'] = df_gdp['2013']-df_gdp['1913']\n",
    "df_gdp.sort_values(by=['CAGR'], inplace=True, ascending=False)"
   ]
  },
  {
   "cell_type": "code",
   "execution_count": null,
   "metadata": {},
   "outputs": [],
   "source": [
    "df_gdp_s = df_gdp.drop(index=[ind for ind in df_gdp.index if ind not in countries])"
   ]
  },
  {
   "cell_type": "code",
   "execution_count": null,
   "metadata": {},
   "outputs": [],
   "source": [
    "df_gdp_s[['1913','2013','CAGR', 'Abs_gth']]"
   ]
  },
  {
   "cell_type": "code",
   "execution_count": null,
   "metadata": {},
   "outputs": [],
   "source": [
    "df_gdp_s.sort_values(by=['Abs_gth'], inplace=True, ascending=False)\n",
    "df_gdp_s[['1913','2013','CAGR', 'Abs_gth']]                                   "
   ]
  },
  {
   "cell_type": "code",
   "execution_count": null,
   "metadata": {},
   "outputs": [],
   "source": []
  },
  {
   "cell_type": "code",
   "execution_count": null,
   "metadata": {},
   "outputs": [],
   "source": [
    "x1 = df_gdp_s['CAGR']   \n",
    "x2 = df_gdp_s['Abs_gth']"
   ]
  },
  {
   "cell_type": "code",
   "execution_count": null,
   "metadata": {},
   "outputs": [],
   "source": []
  },
  {
   "cell_type": "code",
   "execution_count": null,
   "metadata": {},
   "outputs": [],
   "source": [
    "   \n",
    "plt.plot(x1, x2, 'o', color='blue');\n",
    "plt.xlabel('CAGR')\n",
    "plt.ylabel('Abs_gth')\n",
    "for x,y,z in zip(list(x1),list(x2),list(df_gdp_s.index)):\n",
    "    plt.annotate(z, (x,y), textcoords=\"offset points\", xytext=(5,-20), ha='right') \n",
    "plt.title('GDP growth over the last century.\\n CAGR vs Absolute growth'); \n",
    "         "
   ]
  },
  {
   "cell_type": "code",
   "execution_count": null,
   "metadata": {},
   "outputs": [],
   "source": [
    "list(df_gdp_s.index)"
   ]
  },
  {
   "cell_type": "code",
   "execution_count": null,
   "metadata": {},
   "outputs": [],
   "source": []
  },
  {
   "cell_type": "code",
   "execution_count": null,
   "metadata": {},
   "outputs": [],
   "source": []
  },
  {
   "cell_type": "code",
   "execution_count": null,
   "metadata": {
    "scrolled": true
   },
   "outputs": [],
   "source": [
    "inde = 2\n",
    "df_gdp_s['1913'][inde], df_gdp_s['2013'][inde], "
   ]
  },
  {
   "cell_type": "code",
   "execution_count": null,
   "metadata": {},
   "outputs": [],
   "source": []
  },
  {
   "cell_type": "code",
   "execution_count": null,
   "metadata": {},
   "outputs": [],
   "source": []
  },
  {
   "cell_type": "code",
   "execution_count": null,
   "metadata": {},
   "outputs": [],
   "source": []
  },
  {
   "cell_type": "code",
   "execution_count": null,
   "metadata": {},
   "outputs": [],
   "source": []
  },
  {
   "cell_type": "code",
   "execution_count": null,
   "metadata": {},
   "outputs": [],
   "source": []
  },
  {
   "cell_type": "code",
   "execution_count": null,
   "metadata": {},
   "outputs": [],
   "source": []
  },
  {
   "cell_type": "code",
   "execution_count": null,
   "metadata": {},
   "outputs": [],
   "source": []
  },
  {
   "cell_type": "code",
   "execution_count": null,
   "metadata": {},
   "outputs": [],
   "source": [
    "df_age.head()"
   ]
  },
  {
   "cell_type": "code",
   "execution_count": null,
   "metadata": {},
   "outputs": [],
   "source": []
  },
  {
   "cell_type": "code",
   "execution_count": null,
   "metadata": {},
   "outputs": [],
   "source": [
    "df_age_T2.tail(25)"
   ]
  },
  {
   "cell_type": "code",
   "execution_count": null,
   "metadata": {},
   "outputs": [],
   "source": [
    "#Remove forward looking forecasts beyond 2025\n",
    "df_age_T=df_age.T.loc[:'2025',:]\n",
    "\n",
    "#Remove years with no data\n",
    "df_age_T.dropna(inplace=True)\n",
    "\n",
    "#Limit to just the countries we are looking to review\n",
    "df_age_T2 = df_age_T.drop(columns=[col for col in df_age_T if col not in countries])\n",
    "\n",
    "df_age_T2.index"
   ]
  },
  {
   "cell_type": "code",
   "execution_count": null,
   "metadata": {},
   "outputs": [],
   "source": [
    "df_age_T2.plot(kind='line', figsize=(14,14))\n",
    "plt.title(\"Median Age\")\n",
    "plt.ylabel(\"Age\")\n",
    "plt.xlabel(\"Year\")\n",
    "#plt.text(2050,35,\"test\")\n",
    "plt.show()"
   ]
  },
  {
   "cell_type": "code",
   "execution_count": null,
   "metadata": {},
   "outputs": [],
   "source": []
  },
  {
   "cell_type": "code",
   "execution_count": null,
   "metadata": {},
   "outputs": [],
   "source": []
  },
  {
   "cell_type": "code",
   "execution_count": null,
   "metadata": {},
   "outputs": [],
   "source": [
    "df_kid = pd.read_csv('data_sets/children_per_woman_total_fertility.csv', index_col='country')"
   ]
  },
  {
   "cell_type": "code",
   "execution_count": 3,
   "metadata": {},
   "outputs": [
    {
     "data": {
      "text/html": [
       "<div>\n",
       "<style scoped>\n",
       "    .dataframe tbody tr th:only-of-type {\n",
       "        vertical-align: middle;\n",
       "    }\n",
       "\n",
       "    .dataframe tbody tr th {\n",
       "        vertical-align: top;\n",
       "    }\n",
       "\n",
       "    .dataframe thead th {\n",
       "        text-align: right;\n",
       "    }\n",
       "</style>\n",
       "<table border=\"1\" class=\"dataframe\">\n",
       "  <thead>\n",
       "    <tr style=\"text-align: right;\">\n",
       "      <th></th>\n",
       "      <th>1800</th>\n",
       "      <th>1801</th>\n",
       "      <th>1802</th>\n",
       "      <th>1803</th>\n",
       "      <th>1804</th>\n",
       "      <th>1805</th>\n",
       "      <th>1806</th>\n",
       "      <th>1807</th>\n",
       "      <th>1808</th>\n",
       "      <th>1809</th>\n",
       "      <th>...</th>\n",
       "      <th>2091</th>\n",
       "      <th>2092</th>\n",
       "      <th>2093</th>\n",
       "      <th>2094</th>\n",
       "      <th>2095</th>\n",
       "      <th>2096</th>\n",
       "      <th>2097</th>\n",
       "      <th>2098</th>\n",
       "      <th>2099</th>\n",
       "      <th>2100</th>\n",
       "    </tr>\n",
       "    <tr>\n",
       "      <th>country</th>\n",
       "      <th></th>\n",
       "      <th></th>\n",
       "      <th></th>\n",
       "      <th></th>\n",
       "      <th></th>\n",
       "      <th></th>\n",
       "      <th></th>\n",
       "      <th></th>\n",
       "      <th></th>\n",
       "      <th></th>\n",
       "      <th></th>\n",
       "      <th></th>\n",
       "      <th></th>\n",
       "      <th></th>\n",
       "      <th></th>\n",
       "      <th></th>\n",
       "      <th></th>\n",
       "      <th></th>\n",
       "      <th></th>\n",
       "      <th></th>\n",
       "      <th></th>\n",
       "    </tr>\n",
       "  </thead>\n",
       "  <tbody>\n",
       "    <tr>\n",
       "      <th>Afghanistan</th>\n",
       "      <td>7.0</td>\n",
       "      <td>7.0</td>\n",
       "      <td>7.0</td>\n",
       "      <td>7.0</td>\n",
       "      <td>7.0</td>\n",
       "      <td>7.0</td>\n",
       "      <td>7.0</td>\n",
       "      <td>7.0</td>\n",
       "      <td>7.0</td>\n",
       "      <td>7.0</td>\n",
       "      <td>...</td>\n",
       "      <td>1.74</td>\n",
       "      <td>1.74</td>\n",
       "      <td>1.74</td>\n",
       "      <td>1.74</td>\n",
       "      <td>1.74</td>\n",
       "      <td>1.74</td>\n",
       "      <td>1.74</td>\n",
       "      <td>1.74</td>\n",
       "      <td>1.74</td>\n",
       "      <td>1.74</td>\n",
       "    </tr>\n",
       "    <tr>\n",
       "      <th>Albania</th>\n",
       "      <td>4.6</td>\n",
       "      <td>4.6</td>\n",
       "      <td>4.6</td>\n",
       "      <td>4.6</td>\n",
       "      <td>4.6</td>\n",
       "      <td>4.6</td>\n",
       "      <td>4.6</td>\n",
       "      <td>4.6</td>\n",
       "      <td>4.6</td>\n",
       "      <td>4.6</td>\n",
       "      <td>...</td>\n",
       "      <td>1.78</td>\n",
       "      <td>1.78</td>\n",
       "      <td>1.78</td>\n",
       "      <td>1.79</td>\n",
       "      <td>1.79</td>\n",
       "      <td>1.79</td>\n",
       "      <td>1.79</td>\n",
       "      <td>1.79</td>\n",
       "      <td>1.79</td>\n",
       "      <td>1.79</td>\n",
       "    </tr>\n",
       "  </tbody>\n",
       "</table>\n",
       "<p>2 rows × 301 columns</p>\n",
       "</div>"
      ],
      "text/plain": [
       "             1800  1801  1802  1803  1804  1805  1806  1807  1808  1809  ...  \\\n",
       "country                                                                  ...   \n",
       "Afghanistan   7.0   7.0   7.0   7.0   7.0   7.0   7.0   7.0   7.0   7.0  ...   \n",
       "Albania       4.6   4.6   4.6   4.6   4.6   4.6   4.6   4.6   4.6   4.6  ...   \n",
       "\n",
       "             2091  2092  2093  2094  2095  2096  2097  2098  2099  2100  \n",
       "country                                                                  \n",
       "Afghanistan  1.74  1.74  1.74  1.74  1.74  1.74  1.74  1.74  1.74  1.74  \n",
       "Albania      1.78  1.78  1.78  1.79  1.79  1.79  1.79  1.79  1.79  1.79  \n",
       "\n",
       "[2 rows x 301 columns]"
      ]
     },
     "execution_count": 3,
     "metadata": {},
     "output_type": "execute_result"
    }
   ],
   "source": [
    "df_kid.head(2)"
   ]
  },
  {
   "cell_type": "code",
   "execution_count": 4,
   "metadata": {},
   "outputs": [
    {
     "data": {
      "text/html": [
       "<div>\n",
       "<style scoped>\n",
       "    .dataframe tbody tr th:only-of-type {\n",
       "        vertical-align: middle;\n",
       "    }\n",
       "\n",
       "    .dataframe tbody tr th {\n",
       "        vertical-align: top;\n",
       "    }\n",
       "\n",
       "    .dataframe thead th {\n",
       "        text-align: right;\n",
       "    }\n",
       "</style>\n",
       "<table border=\"1\" class=\"dataframe\">\n",
       "  <thead>\n",
       "    <tr style=\"text-align: right;\">\n",
       "      <th></th>\n",
       "      <th>1800</th>\n",
       "      <th>1900</th>\n",
       "      <th>2000</th>\n",
       "      <th>2020</th>\n",
       "    </tr>\n",
       "  </thead>\n",
       "  <tbody>\n",
       "    <tr>\n",
       "      <th>count</th>\n",
       "      <td>184.000000</td>\n",
       "      <td>184.000000</td>\n",
       "      <td>184.000000</td>\n",
       "      <td>184.000000</td>\n",
       "    </tr>\n",
       "    <tr>\n",
       "      <th>mean</th>\n",
       "      <td>6.110707</td>\n",
       "      <td>5.905978</td>\n",
       "      <td>3.352391</td>\n",
       "      <td>2.677391</td>\n",
       "    </tr>\n",
       "    <tr>\n",
       "      <th>std</th>\n",
       "      <td>0.791456</td>\n",
       "      <td>1.022217</td>\n",
       "      <td>1.777817</td>\n",
       "      <td>1.229788</td>\n",
       "    </tr>\n",
       "    <tr>\n",
       "      <th>min</th>\n",
       "      <td>4.040000</td>\n",
       "      <td>2.800000</td>\n",
       "      <td>1.120000</td>\n",
       "      <td>1.230000</td>\n",
       "    </tr>\n",
       "    <tr>\n",
       "      <th>25%</th>\n",
       "      <td>5.670000</td>\n",
       "      <td>5.347500</td>\n",
       "      <td>1.807500</td>\n",
       "      <td>1.747500</td>\n",
       "    </tr>\n",
       "    <tr>\n",
       "      <th>50%</th>\n",
       "      <td>6.190000</td>\n",
       "      <td>6.105000</td>\n",
       "      <td>2.840000</td>\n",
       "      <td>2.215000</td>\n",
       "    </tr>\n",
       "    <tr>\n",
       "      <th>75%</th>\n",
       "      <td>6.717500</td>\n",
       "      <td>6.675000</td>\n",
       "      <td>4.550000</td>\n",
       "      <td>3.502500</td>\n",
       "    </tr>\n",
       "    <tr>\n",
       "      <th>max</th>\n",
       "      <td>8.100000</td>\n",
       "      <td>8.050000</td>\n",
       "      <td>7.680000</td>\n",
       "      <td>7.000000</td>\n",
       "    </tr>\n",
       "  </tbody>\n",
       "</table>\n",
       "</div>"
      ],
      "text/plain": [
       "             1800        1900        2000        2020\n",
       "count  184.000000  184.000000  184.000000  184.000000\n",
       "mean     6.110707    5.905978    3.352391    2.677391\n",
       "std      0.791456    1.022217    1.777817    1.229788\n",
       "min      4.040000    2.800000    1.120000    1.230000\n",
       "25%      5.670000    5.347500    1.807500    1.747500\n",
       "50%      6.190000    6.105000    2.840000    2.215000\n",
       "75%      6.717500    6.675000    4.550000    3.502500\n",
       "max      8.100000    8.050000    7.680000    7.000000"
      ]
     },
     "execution_count": 4,
     "metadata": {},
     "output_type": "execute_result"
    }
   ],
   "source": [
    "df_kid[['1800','1900','2000','2020']].describe()"
   ]
  },
  {
   "cell_type": "code",
   "execution_count": 8,
   "metadata": {},
   "outputs": [
    {
     "data": {
      "text/plain": [
       "<AxesSubplot:>"
      ]
     },
     "execution_count": 8,
     "metadata": {},
     "output_type": "execute_result"
    },
    {
     "data": {
      "image/png": "[encoded data removed]",
      "text/plain": [
       "<Figure size 864x864 with 1 Axes>"
      ]
     },
     "metadata": {
      "needs_background": "light"
     },
     "output_type": "display_data"
    }
   ],
   "source": [
    "countries = ['Australia', 'United Kingdom', 'United States', 'UK', 'US', 'China', 'Russia', 'France', 'Germany', 'Japan']\n",
    "df_kid_T=df_kid.T\n",
    "df_kid_T2 = df_kid_T.drop(columns=[col for col in df_kid_T if col not in countries])\n",
    "df_kid_T2.loc['1850':'2020',:].plot(kind='line', figsize=(12,12))"
   ]
  },
  {
   "cell_type": "code",
   "execution_count": 9,
   "metadata": {},
   "outputs": [
    {
     "data": {
      "text/html": [
       "<div>\n",
       "<style scoped>\n",
       "    .dataframe tbody tr th:only-of-type {\n",
       "        vertical-align: middle;\n",
       "    }\n",
       "\n",
       "    .dataframe tbody tr th {\n",
       "        vertical-align: top;\n",
       "    }\n",
       "\n",
       "    .dataframe thead th {\n",
       "        text-align: right;\n",
       "    }\n",
       "</style>\n",
       "<table border=\"1\" class=\"dataframe\">\n",
       "  <thead>\n",
       "    <tr style=\"text-align: right;\">\n",
       "      <th>country</th>\n",
       "      <th>Australia</th>\n",
       "      <th>China</th>\n",
       "      <th>France</th>\n",
       "      <th>Germany</th>\n",
       "      <th>Japan</th>\n",
       "      <th>Russia</th>\n",
       "      <th>UK</th>\n",
       "      <th>US</th>\n",
       "    </tr>\n",
       "  </thead>\n",
       "  <tbody>\n",
       "    <tr>\n",
       "      <th>1800</th>\n",
       "      <td>6.50</td>\n",
       "      <td>5.5</td>\n",
       "      <td>4.41</td>\n",
       "      <td>5.40</td>\n",
       "      <td>4.08</td>\n",
       "      <td>7.0</td>\n",
       "      <td>4.97</td>\n",
       "      <td>7.03</td>\n",
       "    </tr>\n",
       "    <tr>\n",
       "      <th>1801</th>\n",
       "      <td>6.48</td>\n",
       "      <td>5.5</td>\n",
       "      <td>4.36</td>\n",
       "      <td>5.40</td>\n",
       "      <td>4.11</td>\n",
       "      <td>7.0</td>\n",
       "      <td>4.60</td>\n",
       "      <td>7.01</td>\n",
       "    </tr>\n",
       "    <tr>\n",
       "      <th>1802</th>\n",
       "      <td>6.46</td>\n",
       "      <td>5.5</td>\n",
       "      <td>4.31</td>\n",
       "      <td>5.39</td>\n",
       "      <td>4.14</td>\n",
       "      <td>7.0</td>\n",
       "      <td>5.30</td>\n",
       "      <td>6.99</td>\n",
       "    </tr>\n",
       "    <tr>\n",
       "      <th>1803</th>\n",
       "      <td>6.44</td>\n",
       "      <td>5.5</td>\n",
       "      <td>4.26</td>\n",
       "      <td>5.39</td>\n",
       "      <td>4.17</td>\n",
       "      <td>7.0</td>\n",
       "      <td>5.61</td>\n",
       "      <td>6.96</td>\n",
       "    </tr>\n",
       "    <tr>\n",
       "      <th>1804</th>\n",
       "      <td>6.42</td>\n",
       "      <td>5.5</td>\n",
       "      <td>4.21</td>\n",
       "      <td>5.38</td>\n",
       "      <td>4.20</td>\n",
       "      <td>7.0</td>\n",
       "      <td>5.65</td>\n",
       "      <td>6.94</td>\n",
       "    </tr>\n",
       "  </tbody>\n",
       "</table>\n",
       "</div>"
      ],
      "text/plain": [
       "country  Australia  China  France  Germany  Japan  Russia    UK    US\n",
       "1800          6.50    5.5    4.41     5.40   4.08     7.0  4.97  7.03\n",
       "1801          6.48    5.5    4.36     5.40   4.11     7.0  4.60  7.01\n",
       "1802          6.46    5.5    4.31     5.39   4.14     7.0  5.30  6.99\n",
       "1803          6.44    5.5    4.26     5.39   4.17     7.0  5.61  6.96\n",
       "1804          6.42    5.5    4.21     5.38   4.20     7.0  5.65  6.94"
      ]
     },
     "execution_count": 9,
     "metadata": {},
     "output_type": "execute_result"
    }
   ],
   "source": [
    "#Rename the Uk column header so that it doesnt conflict with the US column in the next step where they are renamed\n",
    "df_kid_T2 = df_kid_T2.rename(columns = {'United Kingdom': 'UK', 'United States': 'US'})\n",
    "df_kid_T2.head()"
   ]
  },
  {
   "cell_type": "code",
   "execution_count": 10,
   "metadata": {},
   "outputs": [
    {
     "data": {
      "text/html": [
       "<div>\n",
       "<style scoped>\n",
       "    .dataframe tbody tr th:only-of-type {\n",
       "        vertical-align: middle;\n",
       "    }\n",
       "\n",
       "    .dataframe tbody tr th {\n",
       "        vertical-align: top;\n",
       "    }\n",
       "\n",
       "    .dataframe thead th {\n",
       "        text-align: right;\n",
       "    }\n",
       "</style>\n",
       "<table border=\"1\" class=\"dataframe\">\n",
       "  <thead>\n",
       "    <tr style=\"text-align: right;\">\n",
       "      <th>country</th>\n",
       "      <th>Australia</th>\n",
       "      <th>China</th>\n",
       "      <th>France</th>\n",
       "      <th>Germany</th>\n",
       "      <th>Japan</th>\n",
       "      <th>Russia</th>\n",
       "      <th>UK</th>\n",
       "      <th>US</th>\n",
       "      <th>Au_MA10</th>\n",
       "      <th>Ch_MA10</th>\n",
       "      <th>Fr_MA10</th>\n",
       "      <th>Ge_MA10</th>\n",
       "      <th>Ja_MA10</th>\n",
       "      <th>Ru_MA10</th>\n",
       "      <th>UK_MA10</th>\n",
       "      <th>US_MA10</th>\n",
       "    </tr>\n",
       "  </thead>\n",
       "  <tbody>\n",
       "    <tr>\n",
       "      <th>1809</th>\n",
       "      <td>6.32</td>\n",
       "      <td>5.5</td>\n",
       "      <td>3.95</td>\n",
       "      <td>5.36</td>\n",
       "      <td>4.34</td>\n",
       "      <td>7.0</td>\n",
       "      <td>5.24</td>\n",
       "      <td>6.83</td>\n",
       "      <td>6.41</td>\n",
       "      <td>5.5</td>\n",
       "      <td>4.181</td>\n",
       "      <td>5.380</td>\n",
       "      <td>4.211</td>\n",
       "      <td>7.0</td>\n",
       "      <td>5.326</td>\n",
       "      <td>6.930</td>\n",
       "    </tr>\n",
       "    <tr>\n",
       "      <th>1810</th>\n",
       "      <td>6.30</td>\n",
       "      <td>5.5</td>\n",
       "      <td>3.90</td>\n",
       "      <td>5.35</td>\n",
       "      <td>4.37</td>\n",
       "      <td>7.0</td>\n",
       "      <td>5.36</td>\n",
       "      <td>6.81</td>\n",
       "      <td>6.39</td>\n",
       "      <td>5.5</td>\n",
       "      <td>4.130</td>\n",
       "      <td>5.375</td>\n",
       "      <td>4.240</td>\n",
       "      <td>7.0</td>\n",
       "      <td>5.365</td>\n",
       "      <td>6.908</td>\n",
       "    </tr>\n",
       "    <tr>\n",
       "      <th>1811</th>\n",
       "      <td>6.28</td>\n",
       "      <td>5.5</td>\n",
       "      <td>3.89</td>\n",
       "      <td>5.35</td>\n",
       "      <td>4.40</td>\n",
       "      <td>7.0</td>\n",
       "      <td>5.43</td>\n",
       "      <td>6.79</td>\n",
       "      <td>6.37</td>\n",
       "      <td>5.5</td>\n",
       "      <td>4.083</td>\n",
       "      <td>5.370</td>\n",
       "      <td>4.269</td>\n",
       "      <td>7.0</td>\n",
       "      <td>5.448</td>\n",
       "      <td>6.886</td>\n",
       "    </tr>\n",
       "    <tr>\n",
       "      <th>1812</th>\n",
       "      <td>6.26</td>\n",
       "      <td>5.5</td>\n",
       "      <td>3.89</td>\n",
       "      <td>5.34</td>\n",
       "      <td>4.43</td>\n",
       "      <td>7.0</td>\n",
       "      <td>5.31</td>\n",
       "      <td>6.76</td>\n",
       "      <td>6.35</td>\n",
       "      <td>5.5</td>\n",
       "      <td>4.041</td>\n",
       "      <td>5.365</td>\n",
       "      <td>4.298</td>\n",
       "      <td>7.0</td>\n",
       "      <td>5.449</td>\n",
       "      <td>6.863</td>\n",
       "    </tr>\n",
       "    <tr>\n",
       "      <th>1813</th>\n",
       "      <td>6.24</td>\n",
       "      <td>5.5</td>\n",
       "      <td>3.88</td>\n",
       "      <td>5.34</td>\n",
       "      <td>4.43</td>\n",
       "      <td>7.0</td>\n",
       "      <td>5.45</td>\n",
       "      <td>6.74</td>\n",
       "      <td>6.33</td>\n",
       "      <td>5.5</td>\n",
       "      <td>4.003</td>\n",
       "      <td>5.360</td>\n",
       "      <td>4.324</td>\n",
       "      <td>7.0</td>\n",
       "      <td>5.433</td>\n",
       "      <td>6.841</td>\n",
       "    </tr>\n",
       "    <tr>\n",
       "      <th>1814</th>\n",
       "      <td>6.22</td>\n",
       "      <td>5.5</td>\n",
       "      <td>3.88</td>\n",
       "      <td>5.33</td>\n",
       "      <td>4.44</td>\n",
       "      <td>7.0</td>\n",
       "      <td>5.46</td>\n",
       "      <td>6.72</td>\n",
       "      <td>6.31</td>\n",
       "      <td>5.5</td>\n",
       "      <td>3.970</td>\n",
       "      <td>5.355</td>\n",
       "      <td>4.348</td>\n",
       "      <td>7.0</td>\n",
       "      <td>5.414</td>\n",
       "      <td>6.819</td>\n",
       "    </tr>\n",
       "    <tr>\n",
       "      <th>1815</th>\n",
       "      <td>6.20</td>\n",
       "      <td>5.5</td>\n",
       "      <td>3.87</td>\n",
       "      <td>5.33</td>\n",
       "      <td>4.44</td>\n",
       "      <td>7.0</td>\n",
       "      <td>6.02</td>\n",
       "      <td>6.70</td>\n",
       "      <td>6.29</td>\n",
       "      <td>5.5</td>\n",
       "      <td>3.941</td>\n",
       "      <td>5.350</td>\n",
       "      <td>4.369</td>\n",
       "      <td>7.0</td>\n",
       "      <td>5.461</td>\n",
       "      <td>6.797</td>\n",
       "    </tr>\n",
       "    <tr>\n",
       "      <th>1816</th>\n",
       "      <td>6.18</td>\n",
       "      <td>5.5</td>\n",
       "      <td>3.86</td>\n",
       "      <td>5.32</td>\n",
       "      <td>4.45</td>\n",
       "      <td>7.0</td>\n",
       "      <td>5.73</td>\n",
       "      <td>6.67</td>\n",
       "      <td>6.27</td>\n",
       "      <td>5.5</td>\n",
       "      <td>3.917</td>\n",
       "      <td>5.345</td>\n",
       "      <td>4.389</td>\n",
       "      <td>7.0</td>\n",
       "      <td>5.485</td>\n",
       "      <td>6.774</td>\n",
       "    </tr>\n",
       "    <tr>\n",
       "      <th>1817</th>\n",
       "      <td>6.16</td>\n",
       "      <td>5.5</td>\n",
       "      <td>3.86</td>\n",
       "      <td>5.32</td>\n",
       "      <td>4.45</td>\n",
       "      <td>7.0</td>\n",
       "      <td>5.69</td>\n",
       "      <td>6.65</td>\n",
       "      <td>6.25</td>\n",
       "      <td>5.5</td>\n",
       "      <td>3.898</td>\n",
       "      <td>5.340</td>\n",
       "      <td>4.406</td>\n",
       "      <td>7.0</td>\n",
       "      <td>5.509</td>\n",
       "      <td>6.752</td>\n",
       "    </tr>\n",
       "    <tr>\n",
       "      <th>1818</th>\n",
       "      <td>6.14</td>\n",
       "      <td>5.5</td>\n",
       "      <td>3.85</td>\n",
       "      <td>5.33</td>\n",
       "      <td>4.45</td>\n",
       "      <td>7.0</td>\n",
       "      <td>5.54</td>\n",
       "      <td>6.63</td>\n",
       "      <td>6.23</td>\n",
       "      <td>5.5</td>\n",
       "      <td>3.883</td>\n",
       "      <td>5.337</td>\n",
       "      <td>4.420</td>\n",
       "      <td>7.0</td>\n",
       "      <td>5.523</td>\n",
       "      <td>6.730</td>\n",
       "    </tr>\n",
       "    <tr>\n",
       "      <th>1819</th>\n",
       "      <td>6.12</td>\n",
       "      <td>5.5</td>\n",
       "      <td>3.85</td>\n",
       "      <td>5.35</td>\n",
       "      <td>4.46</td>\n",
       "      <td>7.0</td>\n",
       "      <td>5.45</td>\n",
       "      <td>6.61</td>\n",
       "      <td>6.21</td>\n",
       "      <td>5.5</td>\n",
       "      <td>3.873</td>\n",
       "      <td>5.336</td>\n",
       "      <td>4.432</td>\n",
       "      <td>7.0</td>\n",
       "      <td>5.544</td>\n",
       "      <td>6.708</td>\n",
       "    </tr>\n",
       "    <tr>\n",
       "      <th>1820</th>\n",
       "      <td>6.10</td>\n",
       "      <td>5.5</td>\n",
       "      <td>3.84</td>\n",
       "      <td>5.37</td>\n",
       "      <td>4.46</td>\n",
       "      <td>7.0</td>\n",
       "      <td>5.40</td>\n",
       "      <td>6.59</td>\n",
       "      <td>6.19</td>\n",
       "      <td>5.5</td>\n",
       "      <td>3.867</td>\n",
       "      <td>5.338</td>\n",
       "      <td>4.441</td>\n",
       "      <td>7.0</td>\n",
       "      <td>5.548</td>\n",
       "      <td>6.686</td>\n",
       "    </tr>\n",
       "    <tr>\n",
       "      <th>1821</th>\n",
       "      <td>6.08</td>\n",
       "      <td>5.5</td>\n",
       "      <td>3.83</td>\n",
       "      <td>5.35</td>\n",
       "      <td>4.47</td>\n",
       "      <td>7.0</td>\n",
       "      <td>5.55</td>\n",
       "      <td>6.57</td>\n",
       "      <td>6.17</td>\n",
       "      <td>5.5</td>\n",
       "      <td>3.861</td>\n",
       "      <td>5.338</td>\n",
       "      <td>4.448</td>\n",
       "      <td>7.0</td>\n",
       "      <td>5.560</td>\n",
       "      <td>6.664</td>\n",
       "    </tr>\n",
       "    <tr>\n",
       "      <th>1822</th>\n",
       "      <td>6.06</td>\n",
       "      <td>5.5</td>\n",
       "      <td>3.82</td>\n",
       "      <td>5.33</td>\n",
       "      <td>4.47</td>\n",
       "      <td>7.0</td>\n",
       "      <td>5.69</td>\n",
       "      <td>6.54</td>\n",
       "      <td>6.15</td>\n",
       "      <td>5.5</td>\n",
       "      <td>3.854</td>\n",
       "      <td>5.337</td>\n",
       "      <td>4.452</td>\n",
       "      <td>7.0</td>\n",
       "      <td>5.598</td>\n",
       "      <td>6.642</td>\n",
       "    </tr>\n",
       "    <tr>\n",
       "      <th>1823</th>\n",
       "      <td>6.04</td>\n",
       "      <td>5.5</td>\n",
       "      <td>3.80</td>\n",
       "      <td>5.31</td>\n",
       "      <td>4.48</td>\n",
       "      <td>7.0</td>\n",
       "      <td>5.54</td>\n",
       "      <td>6.52</td>\n",
       "      <td>6.13</td>\n",
       "      <td>5.5</td>\n",
       "      <td>3.846</td>\n",
       "      <td>5.334</td>\n",
       "      <td>4.457</td>\n",
       "      <td>7.0</td>\n",
       "      <td>5.607</td>\n",
       "      <td>6.620</td>\n",
       "    </tr>\n",
       "  </tbody>\n",
       "</table>\n",
       "</div>"
      ],
      "text/plain": [
       "country  Australia  China  France  Germany  Japan  Russia    UK    US  \\\n",
       "1809          6.32    5.5    3.95     5.36   4.34     7.0  5.24  6.83   \n",
       "1810          6.30    5.5    3.90     5.35   4.37     7.0  5.36  6.81   \n",
       "1811          6.28    5.5    3.89     5.35   4.40     7.0  5.43  6.79   \n",
       "1812          6.26    5.5    3.89     5.34   4.43     7.0  5.31  6.76   \n",
       "1813          6.24    5.5    3.88     5.34   4.43     7.0  5.45  6.74   \n",
       "1814          6.22    5.5    3.88     5.33   4.44     7.0  5.46  6.72   \n",
       "1815          6.20    5.5    3.87     5.33   4.44     7.0  6.02  6.70   \n",
       "1816          6.18    5.5    3.86     5.32   4.45     7.0  5.73  6.67   \n",
       "1817          6.16    5.5    3.86     5.32   4.45     7.0  5.69  6.65   \n",
       "1818          6.14    5.5    3.85     5.33   4.45     7.0  5.54  6.63   \n",
       "1819          6.12    5.5    3.85     5.35   4.46     7.0  5.45  6.61   \n",
       "1820          6.10    5.5    3.84     5.37   4.46     7.0  5.40  6.59   \n",
       "1821          6.08    5.5    3.83     5.35   4.47     7.0  5.55  6.57   \n",
       "1822          6.06    5.5    3.82     5.33   4.47     7.0  5.69  6.54   \n",
       "1823          6.04    5.5    3.80     5.31   4.48     7.0  5.54  6.52   \n",
       "\n",
       "country  Au_MA10  Ch_MA10  Fr_MA10  Ge_MA10  Ja_MA10  Ru_MA10  UK_MA10  \\\n",
       "1809        6.41      5.5    4.181    5.380    4.211      7.0    5.326   \n",
       "1810        6.39      5.5    4.130    5.375    4.240      7.0    5.365   \n",
       "1811        6.37      5.5    4.083    5.370    4.269      7.0    5.448   \n",
       "1812        6.35      5.5    4.041    5.365    4.298      7.0    5.449   \n",
       "1813        6.33      5.5    4.003    5.360    4.324      7.0    5.433   \n",
       "1814        6.31      5.5    3.970    5.355    4.348      7.0    5.414   \n",
       "1815        6.29      5.5    3.941    5.350    4.369      7.0    5.461   \n",
       "1816        6.27      5.5    3.917    5.345    4.389      7.0    5.485   \n",
       "1817        6.25      5.5    3.898    5.340    4.406      7.0    5.509   \n",
       "1818        6.23      5.5    3.883    5.337    4.420      7.0    5.523   \n",
       "1819        6.21      5.5    3.873    5.336    4.432      7.0    5.544   \n",
       "1820        6.19      5.5    3.867    5.338    4.441      7.0    5.548   \n",
       "1821        6.17      5.5    3.861    5.338    4.448      7.0    5.560   \n",
       "1822        6.15      5.5    3.854    5.337    4.452      7.0    5.598   \n",
       "1823        6.13      5.5    3.846    5.334    4.457      7.0    5.607   \n",
       "\n",
       "country  US_MA10  \n",
       "1809       6.930  \n",
       "1810       6.908  \n",
       "1811       6.886  \n",
       "1812       6.863  \n",
       "1813       6.841  \n",
       "1814       6.819  \n",
       "1815       6.797  \n",
       "1816       6.774  \n",
       "1817       6.752  \n",
       "1818       6.730  \n",
       "1819       6.708  \n",
       "1820       6.686  \n",
       "1821       6.664  \n",
       "1822       6.642  \n",
       "1823       6.620  "
      ]
     },
     "execution_count": 10,
     "metadata": {},
     "output_type": "execute_result"
    }
   ],
   "source": [
    "yrs = 10\n",
    "for c in df_kid_T2.columns:\n",
    "    df_kid_T2[c[0:2] + '_MA' + str(yrs)] = df_kid_T2[c].rolling(yrs).mean()\n",
    "df_kid_T2.drop(df_kid_T2.index[0:yrs-1], inplace=True, axis=0)\n",
    "df_kid_T2.head(15)"
   ]
  },
  {
   "cell_type": "code",
   "execution_count": 11,
   "metadata": {
    "scrolled": true
   },
   "outputs": [
    {
     "data": {
      "text/html": [
       "<div>\n",
       "<style scoped>\n",
       "    .dataframe tbody tr th:only-of-type {\n",
       "        vertical-align: middle;\n",
       "    }\n",
       "\n",
       "    .dataframe tbody tr th {\n",
       "        vertical-align: top;\n",
       "    }\n",
       "\n",
       "    .dataframe thead th {\n",
       "        text-align: right;\n",
       "    }\n",
       "</style>\n",
       "<table border=\"1\" class=\"dataframe\">\n",
       "  <thead>\n",
       "    <tr style=\"text-align: right;\">\n",
       "      <th>country</th>\n",
       "      <th>Au_MA10</th>\n",
       "      <th>Ch_MA10</th>\n",
       "      <th>Fr_MA10</th>\n",
       "      <th>Ge_MA10</th>\n",
       "      <th>Ja_MA10</th>\n",
       "      <th>Ru_MA10</th>\n",
       "      <th>UK_MA10</th>\n",
       "      <th>US_MA10</th>\n",
       "    </tr>\n",
       "  </thead>\n",
       "  <tbody>\n",
       "    <tr>\n",
       "      <th>1809</th>\n",
       "      <td>6.41</td>\n",
       "      <td>5.5</td>\n",
       "      <td>4.181</td>\n",
       "      <td>5.380</td>\n",
       "      <td>4.211</td>\n",
       "      <td>7.0</td>\n",
       "      <td>5.326</td>\n",
       "      <td>6.930</td>\n",
       "    </tr>\n",
       "    <tr>\n",
       "      <th>1810</th>\n",
       "      <td>6.39</td>\n",
       "      <td>5.5</td>\n",
       "      <td>4.130</td>\n",
       "      <td>5.375</td>\n",
       "      <td>4.240</td>\n",
       "      <td>7.0</td>\n",
       "      <td>5.365</td>\n",
       "      <td>6.908</td>\n",
       "    </tr>\n",
       "    <tr>\n",
       "      <th>1811</th>\n",
       "      <td>6.37</td>\n",
       "      <td>5.5</td>\n",
       "      <td>4.083</td>\n",
       "      <td>5.370</td>\n",
       "      <td>4.269</td>\n",
       "      <td>7.0</td>\n",
       "      <td>5.448</td>\n",
       "      <td>6.886</td>\n",
       "    </tr>\n",
       "    <tr>\n",
       "      <th>1812</th>\n",
       "      <td>6.35</td>\n",
       "      <td>5.5</td>\n",
       "      <td>4.041</td>\n",
       "      <td>5.365</td>\n",
       "      <td>4.298</td>\n",
       "      <td>7.0</td>\n",
       "      <td>5.449</td>\n",
       "      <td>6.863</td>\n",
       "    </tr>\n",
       "    <tr>\n",
       "      <th>1813</th>\n",
       "      <td>6.33</td>\n",
       "      <td>5.5</td>\n",
       "      <td>4.003</td>\n",
       "      <td>5.360</td>\n",
       "      <td>4.324</td>\n",
       "      <td>7.0</td>\n",
       "      <td>5.433</td>\n",
       "      <td>6.841</td>\n",
       "    </tr>\n",
       "  </tbody>\n",
       "</table>\n",
       "</div>"
      ],
      "text/plain": [
       "country  Au_MA10  Ch_MA10  Fr_MA10  Ge_MA10  Ja_MA10  Ru_MA10  UK_MA10  \\\n",
       "1809        6.41      5.5    4.181    5.380    4.211      7.0    5.326   \n",
       "1810        6.39      5.5    4.130    5.375    4.240      7.0    5.365   \n",
       "1811        6.37      5.5    4.083    5.370    4.269      7.0    5.448   \n",
       "1812        6.35      5.5    4.041    5.365    4.298      7.0    5.449   \n",
       "1813        6.33      5.5    4.003    5.360    4.324      7.0    5.433   \n",
       "\n",
       "country  US_MA10  \n",
       "1809       6.930  \n",
       "1810       6.908  \n",
       "1811       6.886  \n",
       "1812       6.863  \n",
       "1813       6.841  "
      ]
     },
     "execution_count": 11,
     "metadata": {},
     "output_type": "execute_result"
    }
   ],
   "source": [
    "countries = ['Australia', 'UK', 'US', 'China', 'Russia', 'France', 'Germany', 'Japan']\n",
    "df_kid_T2.drop(columns=countries, inplace=True)\n",
    "df_kid_T2.head()"
   ]
  },
  {
   "cell_type": "code",
   "execution_count": null,
   "metadata": {},
   "outputs": [],
   "source": [
    "df_kid_T2.index"
   ]
  },
  {
   "cell_type": "code",
   "execution_count": null,
   "metadata": {},
   "outputs": [],
   "source": [
    "df_kid_T2.loc['1850':'2020',:].index"
   ]
  },
  {
   "cell_type": "code",
   "execution_count": 16,
   "metadata": {},
   "outputs": [
    {
     "data": {
      "image/png": "[encoded data removed]",
      "text/plain": [
       "<Figure size 864x864 with 1 Axes>"
      ]
     },
     "metadata": {
      "needs_background": "light"
     },
     "output_type": "display_data"
    }
   ],
   "source": [
    "df_kid_T2.loc['1850':'2020',:].plot(kind='line', figsize=(12,12))\n",
    "\n",
    "plt.title(\"Number of children per woman\")\n",
    "plt.ylabel(\"Number_of_children\")\n",
    "plt.xlabel(\"Year\")\n",
    "plt.plot(df_kid_T2.index,list(df_kid_T2['AVG_MA20']),label = 'x', lw=5, ls='--')\n",
    "\n",
    "plt.show()"
   ]
  },
  {
   "cell_type": "code",
   "execution_count": 13,
   "metadata": {},
   "outputs": [],
   "source": [
    "df_kid_T2['AVG_MA20'] = df_kid_T2.mean(axis=1)"
   ]
  },
  {
   "cell_type": "code",
   "execution_count": 14,
   "metadata": {},
   "outputs": [
    {
     "data": {
      "text/plain": [
       "country\n",
       "Au_MA10     1.813000\n",
       "Ch_MA10     1.705000\n",
       "Fr_MA10     1.748000\n",
       "Ge_MA10     1.328000\n",
       "Ja_MA10     1.412000\n",
       "Ru_MA10     1.347000\n",
       "UK_MA10     1.745000\n",
       "US_MA10     2.011000\n",
       "AVG_MA20    1.638625\n",
       "Name: 2000, dtype: float64"
      ]
     },
     "execution_count": 14,
     "metadata": {},
     "output_type": "execute_result"
    }
   ],
   "source": [
    "df_kid_T2.loc['2000']"
   ]
  },
  {
   "cell_type": "code",
   "execution_count": 17,
   "metadata": {},
   "outputs": [],
   "source": [
    "df_test = zip(df_kid_T2.index,list(df_kid_T2['AVG_MA20']))"
   ]
  },
  {
   "cell_type": "code",
   "execution_count": null,
   "metadata": {},
   "outputs": [],
   "source": []
  },
  {
   "cell_type": "code",
   "execution_count": null,
   "metadata": {},
   "outputs": [],
   "source": []
  },
  {
   "cell_type": "code",
   "execution_count": null,
   "metadata": {},
   "outputs": [],
   "source": []
  },
  {
   "cell_type": "code",
   "execution_count": null,
   "metadata": {},
   "outputs": [],
   "source": []
  },
  {
   "cell_type": "code",
   "execution_count": null,
   "metadata": {},
   "outputs": [],
   "source": []
  },
  {
   "cell_type": "code",
   "execution_count": null,
   "metadata": {},
   "outputs": [],
   "source": []
  }
 ],
 "metadata": {
  "kernelspec": {
   "display_name": "Python 3",
   "language": "python",
   "name": "python3"
  },
  "language_info": {
   "codemirror_mode": {
    "name": "ipython",
    "version": 3
   },
   "file_extension": ".py",
   "mimetype": "text/x-python",
   "name": "python",
   "nbconvert_exporter": "python",
   "pygments_lexer": "ipython3",
   "version": "3.7.9"
  }
 },
 "nbformat": 4,
 "nbformat_minor": 4
}
